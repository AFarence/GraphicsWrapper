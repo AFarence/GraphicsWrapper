{
 "cells": [
  {
   "cell_type": "markdown",
   "metadata": {},
   "source": [
    "Useful resrouces:\n",
    "\n",
    "Exporting/saving files (bottom answer) - https://stackoverflow.com/questions/28356648/python-writing-function-output-to-a-file \n",
    "\n",
    "For writing HTML in Jupyter Notebooks (see 7:18) https://www.youtube.com/watch?v=rMrWMbfaOt4"
   ]
  },
  {
   "cell_type": "code",
   "execution_count": 49,
   "metadata": {},
   "outputs": [],
   "source": [
    "from IPython.display import HTML"
   ]
  },
  {
   "cell_type": "code",
   "execution_count": 50,
   "metadata": {},
   "outputs": [],
   "source": [
    "css_test = '''\n",
    "<style>\n",
    "iframe {\n",
    "    overflow: hidden;\n",
    "}\n",
    "\n",
    "@media only screen and (max-width: 1050px) {\n",
    "  #desktop2 {\n",
    "    display: none;\n",
    "  }\n",
    "  #mobile2 {\n",
    "    display: block;\n",
    "  }\n",
    "}\n",
    "\n",
    "@media only screen and (min-width: 1050px) {\n",
    "  #desktop2 {\n",
    "    display: block;\n",
    "  }\n",
    "  #mobile2 {\n",
    "    display: none;\n",
    "  }\n",
    "}\n",
    "</style>\n",
    "'''\n",
    "\n",
    "f = open('css_test.css','w')\n",
    "f.write(css_test)\n",
    "f.close()"
   ]
  },
  {
   "cell_type": "code",
   "execution_count": 51,
   "metadata": {},
   "outputs": [],
   "source": [
    "test = '''\n",
    "<h1>You did it!!!!</h1>\n",
    "<p>Now to insert the Amazon map...</p>\n",
    "<p>For Map...<a href=\"Amazon2021sites.html\">CLICK HERE</a><p>\n",
    "<p>For Chart...<a href=\"chart_test.html\">CLICK HERE</a><p>\n",
    "<p>Now for iframe tests...</p>\n",
    "<p>First</p>\n",
    "<iframe src=\"https://missionlocal.github.io/interactives/boudin-neighbors/d3.html\" width=\"100%\" height=\"650\" frameborder=\"0\" id=\"desktop2\"></iframe>\n",
    "<h1>-----</h1>\n",
    "<p>Second</p>\n",
    "<iframe src=\"https://missionlocal.github.io/interactives/boudin-neighbors-mobile/d3.html\" width=\"100%\" height=\"850\" frameborder=\"0\" id=\"mobile2\"></iframe>\n",
    "'''\n",
    "f = open('index.html','w')\n",
    "f.write(test)\n",
    "f.close()"
   ]
  },
  {
   "cell_type": "code",
   "execution_count": null,
   "metadata": {},
   "outputs": [],
   "source": []
  }
 ],
 "metadata": {
  "kernelspec": {
   "display_name": "Python 3",
   "language": "python",
   "name": "python3"
  },
  "language_info": {
   "codemirror_mode": {
    "name": "ipython",
    "version": 3
   },
   "file_extension": ".py",
   "mimetype": "text/x-python",
   "name": "python",
   "nbconvert_exporter": "python",
   "pygments_lexer": "ipython3",
   "version": "3.8.6"
  },
  "toc": {
   "base_numbering": 1,
   "nav_menu": {},
   "number_sections": true,
   "sideBar": true,
   "skip_h1_title": false,
   "title_cell": "Table of Contents",
   "title_sidebar": "Contents",
   "toc_cell": false,
   "toc_position": {},
   "toc_section_display": true,
   "toc_window_display": false
  }
 },
 "nbformat": 4,
 "nbformat_minor": 4
}
